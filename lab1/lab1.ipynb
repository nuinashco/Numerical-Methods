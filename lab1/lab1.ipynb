{
 "cells": [
  {
   "attachments": {},
   "cell_type": "markdown",
   "id": "f3456b22",
   "metadata": {},
   "source": [
    "# Лабораторна робота №1\n",
    "## з дисципліни \"Чисельні методи\"\n",
    "##### За темою: \"Похибки чисельних розрахунків\"\n",
    "##### Виконав: студент групи КА-12 Гавлицький Іван\n",
    "##### Перевірила: Димитрієва О. А."
   ]
  },
  {
   "attachments": {},
   "cell_type": "markdown",
   "id": "678245de",
   "metadata": {},
   "source": [
    "*Мета роботи:* придбання практичних навичок в чисельному визначенні похибок обчислень для отримання результату з заданою кількістю вірних значущих цифр. Визначення можливості застосування засобів стандартних пакетів для отримання результатів."
   ]
  },
  {
   "attachments": {},
   "cell_type": "markdown",
   "id": "5c2264f4",
   "metadata": {},
   "source": [
    "### Варіант 38\n",
    "З'ясувати абсолютну та відносну похибки значення функції при заданих максимальних похибках аргументів.\n",
    "<center> <img src=https://i.imgur.com/E5n4YTy.png> </center>\n"
   ]
  },
  {
   "cell_type": "code",
   "execution_count": 21,
   "id": "16d0ffea",
   "metadata": {},
   "outputs": [],
   "source": [
    "import sympy as smp\n",
    "\n",
    "\n",
    "x = smp.symbols('x')\n",
    "y = smp.symbols('y')\n",
    "z = smp.symbols('z')\n",
    "\n",
    "dx = smp.symbols('dx')\n",
    "dy = smp.symbols('dy')\n",
    "dz = smp.symbols('dz')"
   ]
  },
  {
   "attachments": {},
   "cell_type": "markdown",
   "id": "9caef08e",
   "metadata": {},
   "source": [
    "### Умови завдань"
   ]
  },
  {
   "cell_type": "code",
   "execution_count": 22,
   "id": "90a19ba0",
   "metadata": {},
   "outputs": [],
   "source": [
    "#Завдання 1\n",
    "def func1(x, y, z):\n",
    "   return ((x + y)*z)**3 * smp.log(1 + z**2)\n",
    "\n",
    "a1 = 0.2456\n",
    "b1 = 0.20078\n",
    "c1 = 0.008\n",
    "\n",
    "da1 = 0.0005\n",
    "db1 = 0.00003\n",
    "dc1 = 0.00013\n",
    "\n",
    "\n",
    "#Завдання 2\n",
    "def func2(x, y, z):\n",
    "   return z**2/13 * (x - y)**3 * smp.cos(x*z**2)\n",
    "\n",
    "a2 = 0.02456\n",
    "b2 = 0.007823\n",
    "c2 = 0.8348\n",
    "\n",
    "m = 5\n",
    "da2 = db2 = dc2 = 10**(-m)\n",
    "\n"
   ]
  },
  {
   "cell_type": "code",
   "execution_count": 23,
   "id": "a1ae7598",
   "metadata": {},
   "outputs": [
    {
     "data": {
      "text/latex": [
       "$\\displaystyle z^{3} \\left(x + y\\right)^{3} \\log{\\left(z^{2} + 1 \\right)}$"
      ],
      "text/plain": [
       "z**3*(x + y)**3*log(z**2 + 1)"
      ]
     },
     "execution_count": 23,
     "metadata": {},
     "output_type": "execute_result"
    }
   ],
   "source": [
    "Func1 = func1(x, y, z)\n",
    "Func1"
   ]
  },
  {
   "cell_type": "code",
   "execution_count": 24,
   "id": "13524bac",
   "metadata": {},
   "outputs": [
    {
     "data": {
      "text/latex": [
       "$\\displaystyle \\frac{z^{2} \\left(x - y\\right)^{3} \\cos{\\left(x z^{2} \\right)}}{13}$"
      ],
      "text/plain": [
       "z**2*(x - y)**3*cos(x*z**2)/13"
      ]
     },
     "execution_count": 24,
     "metadata": {},
     "output_type": "execute_result"
    }
   ],
   "source": [
    "Func2 = func2(x, y, z)\n",
    "Func2"
   ]
  },
  {
   "attachments": {},
   "cell_type": "markdown",
   "id": "def24f97",
   "metadata": {},
   "source": [
    "### Завдання 1"
   ]
  },
  {
   "attachments": {},
   "cell_type": "markdown",
   "id": "93967858",
   "metadata": {},
   "source": [
    "#### Обчислимо похідні"
   ]
  },
  {
   "cell_type": "code",
   "execution_count": 25,
   "id": "0f8575cb",
   "metadata": {},
   "outputs": [
    {
     "data": {
      "text/latex": [
       "$\\displaystyle 3 z^{3} \\left(x + y\\right)^{2} \\log{\\left(z^{2} + 1 \\right)}$"
      ],
      "text/plain": [
       "3*z**3*(x + y)**2*log(z**2 + 1)"
      ]
     },
     "execution_count": 25,
     "metadata": {},
     "output_type": "execute_result"
    }
   ],
   "source": [
    "dFunc1dx = Func1.diff(x)\n",
    "dFunc1dx"
   ]
  },
  {
   "cell_type": "code",
   "execution_count": 26,
   "id": "e85e347f",
   "metadata": {},
   "outputs": [
    {
     "data": {
      "text/latex": [
       "$\\displaystyle 3 z^{3} \\left(x + y\\right)^{2} \\log{\\left(z^{2} + 1 \\right)}$"
      ],
      "text/plain": [
       "3*z**3*(x + y)**2*log(z**2 + 1)"
      ]
     },
     "execution_count": 26,
     "metadata": {},
     "output_type": "execute_result"
    }
   ],
   "source": [
    "dFunc1dy = Func1.diff(y)\n",
    "dFunc1dy"
   ]
  },
  {
   "cell_type": "code",
   "execution_count": 27,
   "id": "aeb070ba",
   "metadata": {},
   "outputs": [
    {
     "data": {
      "text/latex": [
       "$\\displaystyle \\frac{2 z^{4} \\left(x + y\\right)^{3}}{z^{2} + 1} + 3 z^{2} \\left(x + y\\right)^{3} \\log{\\left(z^{2} + 1 \\right)}$"
      ],
      "text/plain": [
       "2*z**4*(x + y)**3/(z**2 + 1) + 3*z**2*(x + y)**3*log(z**2 + 1)"
      ]
     },
     "execution_count": 27,
     "metadata": {},
     "output_type": "execute_result"
    }
   ],
   "source": [
    "dFunc1dz = Func1.diff(z)\n",
    "dFunc1dz"
   ]
  },
  {
   "cell_type": "markdown",
   "id": "b4351ff3",
   "metadata": {},
   "source": [
    "#### Розрахуємо максимальну абсолютну похибку"
   ]
  },
  {
   "cell_type": "code",
   "execution_count": 28,
   "id": "7730e2c4",
   "metadata": {},
   "outputs": [
    {
     "data": {
      "text/latex": [
       "$\\displaystyle 3 dx \\left|{z^{3} \\left(x + y\\right)^{2} \\log{\\left(z^{2} + 1 \\right)}}\\right| + 3 dy \\left|{z^{3} \\left(x + y\\right)^{2} \\log{\\left(z^{2} + 1 \\right)}}\\right| + dz \\left|{\\frac{2 z^{4} \\left(x + y\\right)^{3}}{z^{2} + 1} + 3 z^{2} \\left(x + y\\right)^{3} \\log{\\left(z^{2} + 1 \\right)}}\\right|$"
      ],
      "text/plain": [
       "3*dx*Abs(z**3*(x + y)**2*log(z**2 + 1)) + 3*dy*Abs(z**3*(x + y)**2*log(z**2 + 1)) + dz*Abs(2*z**4*(x + y)**3/(z**2 + 1) + 3*z**2*(x + y)**3*log(z**2 + 1))"
      ]
     },
     "execution_count": 28,
     "metadata": {},
     "output_type": "execute_result"
    }
   ],
   "source": [
    "dFunc1 = smp.Abs(dFunc1dx)*dx + smp.Abs(dFunc1dy)*dy + smp.Abs(dFunc1dz)*dz\n",
    "dFunc1"
   ]
  },
  {
   "cell_type": "code",
   "execution_count": 29,
   "id": "f8c61303",
   "metadata": {},
   "outputs": [
    {
     "name": "stdout",
     "output_type": "stream",
     "text": [
      "dF = 2.4717363081444313e-13\n"
     ]
    }
   ],
   "source": [
    "dfunc1 = smp.lambdify((x, y, z, dx, dy, dz), dFunc1)\n",
    "\n",
    "dFunc1 = dfunc1(a1, b1, c1, da1, db1, dc1)\n",
    "print(f'dF = {dFunc1}')"
   ]
  },
  {
   "attachments": {},
   "cell_type": "markdown",
   "id": "f2725127",
   "metadata": {},
   "source": [
    "Таким чином маємо"
   ]
  },
  {
   "cell_type": "code",
   "execution_count": 30,
   "id": "5a343dc9",
   "metadata": {},
   "outputs": [
    {
     "name": "stdout",
     "output_type": "stream",
     "text": [
      "2.66723350423080E-12 < F(a, b, c) < 3.16158076585968E-12\n"
     ]
    }
   ],
   "source": [
    "pdFunc1 = Func1.subs({x:a1, y:b1, z:c1}) + dFunc1\n",
    "mdFunc1 = Func1.subs({x:a1, y:b1, z:c1}) - dFunc1\n",
    "\n",
    "print(f'{mdFunc1} < F(a, b, c) < {pdFunc1}')"
   ]
  },
  {
   "attachments": {},
   "cell_type": "markdown",
   "id": "e3895d33",
   "metadata": {},
   "source": [
    "#### Розрахуємо відносну похибку"
   ]
  },
  {
   "cell_type": "code",
   "execution_count": 31,
   "metadata": {},
   "outputs": [
    {
     "data": {
      "text/latex": [
       "$\\displaystyle 0.0848109475996758$"
      ],
      "text/plain": [
       "0.0848109475996758"
      ]
     },
     "execution_count": 31,
     "metadata": {},
     "output_type": "execute_result"
    }
   ],
   "source": [
    "rel_dFunc1 = dFunc1 / smp.Abs(func1(a1, b1, c1))\n",
    "rel_dFunc1"
   ]
  },
  {
   "attachments": {},
   "cell_type": "markdown",
   "id": "f4126ebc",
   "metadata": {},
   "source": [
    "### Завдання 2"
   ]
  },
  {
   "cell_type": "markdown",
   "id": "7a46d369",
   "metadata": {},
   "source": [
    "#### Обчислимо похідні"
   ]
  },
  {
   "cell_type": "code",
   "execution_count": 32,
   "id": "9503e7d0",
   "metadata": {},
   "outputs": [
    {
     "data": {
      "text/latex": [
       "$\\displaystyle - \\frac{z^{4} \\left(x - y\\right)^{3} \\sin{\\left(x z^{2} \\right)}}{13} + \\frac{3 z^{2} \\left(x - y\\right)^{2} \\cos{\\left(x z^{2} \\right)}}{13}$"
      ],
      "text/plain": [
       "-z**4*(x - y)**3*sin(x*z**2)/13 + 3*z**2*(x - y)**2*cos(x*z**2)/13"
      ]
     },
     "execution_count": 32,
     "metadata": {},
     "output_type": "execute_result"
    }
   ],
   "source": [
    "dFunc2dx = Func2.diff(x)\n",
    "dFunc2dx"
   ]
  },
  {
   "cell_type": "code",
   "execution_count": 33,
   "id": "686c4df9",
   "metadata": {},
   "outputs": [
    {
     "data": {
      "text/latex": [
       "$\\displaystyle - \\frac{3 z^{2} \\left(x - y\\right)^{2} \\cos{\\left(x z^{2} \\right)}}{13}$"
      ],
      "text/plain": [
       "-3*z**2*(x - y)**2*cos(x*z**2)/13"
      ]
     },
     "execution_count": 33,
     "metadata": {},
     "output_type": "execute_result"
    }
   ],
   "source": [
    "dFunc2dy = Func2.diff(y)\n",
    "dFunc2dy"
   ]
  },
  {
   "cell_type": "code",
   "execution_count": 34,
   "id": "6511fc89",
   "metadata": {},
   "outputs": [
    {
     "data": {
      "text/latex": [
       "$\\displaystyle - \\frac{2 x z^{3} \\left(x - y\\right)^{3} \\sin{\\left(x z^{2} \\right)}}{13} + \\frac{2 z \\left(x - y\\right)^{3} \\cos{\\left(x z^{2} \\right)}}{13}$"
      ],
      "text/plain": [
       "-2*x*z**3*(x - y)**3*sin(x*z**2)/13 + 2*z*(x - y)**3*cos(x*z**2)/13"
      ]
     },
     "execution_count": 34,
     "metadata": {},
     "output_type": "execute_result"
    }
   ],
   "source": [
    "dFunc2dz = Func2.diff(z)\n",
    "dFunc2dz"
   ]
  },
  {
   "cell_type": "markdown",
   "id": "359f1c30",
   "metadata": {},
   "source": [
    "#### Розрахуємо максимальну абсолютну похибку"
   ]
  },
  {
   "cell_type": "code",
   "execution_count": 35,
   "id": "45c62570",
   "metadata": {},
   "outputs": [
    {
     "data": {
      "text/latex": [
       "$\\displaystyle dx \\left|{\\frac{z^{4} \\left(x - y\\right)^{3} \\sin{\\left(x z^{2} \\right)}}{13} - \\frac{3 z^{2} \\left(x - y\\right)^{2} \\cos{\\left(x z^{2} \\right)}}{13}}\\right| + \\frac{3 dy \\left|{z^{2} \\left(x - y\\right)^{2} \\cos{\\left(x z^{2} \\right)}}\\right|}{13} + dz \\left|{\\frac{2 x z^{3} \\left(x - y\\right)^{3} \\sin{\\left(x z^{2} \\right)}}{13} - \\frac{2 z \\left(x - y\\right)^{3} \\cos{\\left(x z^{2} \\right)}}{13}}\\right|$"
      ],
      "text/plain": [
       "dx*Abs(z**4*(x - y)**3*sin(x*z**2)/13 - 3*z**2*(x - y)**2*cos(x*z**2)/13) + 3*dy*Abs(z**2*(x - y)**2*cos(x*z**2))/13 + dz*Abs(2*x*z**3*(x - y)**3*sin(x*z**2)/13 - 2*z*(x - y)**3*cos(x*z**2)/13)"
      ]
     },
     "execution_count": 35,
     "metadata": {},
     "output_type": "execute_result"
    }
   ],
   "source": [
    "dFunc2 = smp.Abs(dFunc2dx)*dx + smp.Abs(dFunc2dy)*dy + smp.Abs(dFunc2dz)*dz\n",
    "dFunc2"
   ]
  },
  {
   "cell_type": "code",
   "execution_count": 36,
   "id": "8b304c5c",
   "metadata": {},
   "outputs": [
    {
     "name": "stdout",
     "output_type": "stream",
     "text": [
      "dF = 9.068635497373119e-10\n"
     ]
    }
   ],
   "source": [
    "dfunc2 = smp.lambdify((x, y, z, dx, dy, dz), dFunc2)\n",
    "\n",
    "dFunc2 = dfunc2(a2, b2, c2, da2, db2, dc2)\n",
    "print(f'dF = {dFunc2}')"
   ]
  },
  {
   "cell_type": "markdown",
   "id": "f32104f1",
   "metadata": {},
   "source": [
    "Таким чином маємо"
   ]
  },
  {
   "cell_type": "code",
   "execution_count": 37,
   "id": "dee25eaa",
   "metadata": {},
   "outputs": [
    {
     "name": "stdout",
     "output_type": "stream",
     "text": [
      "2.50392137092333E-7 < F(a, b, c) < 2.52205864191807E-7\n"
     ]
    }
   ],
   "source": [
    "pdFunc2 = Func2.subs({x:a2, y:b2, z:c2}) + dFunc2\n",
    "mdFunc2 = Func2.subs({x:a2, y:b2, z:c2}) - dFunc2\n",
    "\n",
    "print(f'{mdFunc2} < F(a, b, c) < {pdFunc2}')"
   ]
  },
  {
   "cell_type": "markdown",
   "id": "d2ef5078",
   "metadata": {},
   "source": [
    "#### Розрахуємо відносну похибку"
   ]
  },
  {
   "cell_type": "code",
   "execution_count": 38,
   "id": "74ae6076",
   "metadata": {},
   "outputs": [
    {
     "data": {
      "text/latex": [
       "$\\displaystyle 8.68068036225261 \\cdot 10^{-5}$"
      ],
      "text/plain": [
       "8.68068036225261e-5"
      ]
     },
     "execution_count": 38,
     "metadata": {},
     "output_type": "execute_result"
    }
   ],
   "source": [
    "rel_dFunc2 = dFunc2 / smp.Abs(func1(a2, b2, c2))\n",
    "rel_dFunc2"
   ]
  },
  {
   "attachments": {},
   "cell_type": "markdown",
   "id": "08af199b",
   "metadata": {},
   "source": [
    "### Висновок:\n",
    "Виконуючи роботу я придбав практичні навички в чисельному визначенні\n",
    "похибок обчислень для отримання результату з заданою кількістю вірних значущих цифр. Визначення можливості застосування засобів стандартних пакетів для отримання результатів."
   ]
  }
 ],
 "metadata": {
  "kernelspec": {
   "display_name": "base",
   "language": "python",
   "name": "python3"
  },
  "language_info": {
   "codemirror_mode": {
    "name": "ipython",
    "version": 3
   },
   "file_extension": ".py",
   "mimetype": "text/x-python",
   "name": "python",
   "nbconvert_exporter": "python",
   "pygments_lexer": "ipython3",
   "version": "3.9.13"
  },
  "vscode": {
   "interpreter": {
    "hash": "ad2bdc8ecc057115af97d19610ffacc2b4e99fae6737bb82f5d7fb13d2f2c186"
   }
  }
 },
 "nbformat": 4,
 "nbformat_minor": 5
}
